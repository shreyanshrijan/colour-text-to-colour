{
 "cells": [
  {
   "cell_type": "code",
   "execution_count": 3,
   "metadata": {},
   "outputs": [],
   "source": [
    "import json\n",
    "import numpy as np\n",
    "import tensorflow.compat.v1.keras.backend as K\n",
    "import tensorflow as tf\n",
    "from gensim.models import Word2Vec\n",
    "from collections import Counter\n",
    "from keras.preprocessing.sequence import pad_sequences\n",
    "\n",
    "from src.service._training_data import strip_accents\n",
    "from src.utils import ColourConverter\n",
    "\n",
    "tf.compat.v1.disable_eager_execution()"
   ]
  },
  {
   "cell_type": "code",
   "execution_count": 22,
   "metadata": {},
   "outputs": [],
   "source": [
    "import numpy as np\n",
    "\n",
    "\n",
    "def vectorize_words():\n",
    "    with open(\n",
    "        '/Users/shreyanshrijan/Documents/colour-text-to-colour/src/train_test_data/universal_data.json'\n",
    "    ) as f:\n",
    "        data = f.read()\n",
    "    data = json.loads(data)\n",
    "\n",
    "    stop_words = ['a', 'of', 'the', 'an', 'by', 'in', 'at', 'to', 'n', 'no']\n",
    "\n",
    "    color_data = {strip_accents(\n",
    "        data[i]['name']\n",
    "    ).lower(): data[i]['hex'] for i in range(len(data))}\n",
    "\n",
    "    for k, v in color_data.items():\n",
    "        color_data[k] = ColourConverter.hex_to_lab(color_data[k])\n",
    "\n",
    "    col_words = Counter()\n",
    "    for color_i in color_data.keys():\n",
    "        col_words.update(color_i.split())\n",
    "\n",
    "    color_score = lambda color: (\n",
    "        sum(col_words[w] for w in color.split() if w not in stop_words)\n",
    "        / sum(1.0 for w in color.split() if w not in stop_words)\n",
    "    )\n",
    "    color_data = {k: v for k, v in color_data.items() if color_score(k) > 2}\n",
    "\n",
    "    col_words = Counter()\n",
    "    for color_i in color_data.keys():\n",
    "        col_words.update(w for w in color_i.split() if w not in stop_words)\n",
    "\n",
    "    colour_list = []\n",
    "    for k, v in color_data.items():\n",
    "        colour_list.append(k.split())\n",
    "\n",
    "    w2v = Word2Vec(colour_list, min_count=1, vector_size=5)\n",
    "\n",
    "    sequence_length = 4\n",
    "    vector_dict = {}\n",
    "    for k, v in color_data.items():\n",
    "        word_vector = [np.array(w2v.wv[m]) for m in k.split()]\n",
    "        word_vector = []\n",
    "        for m in k.split():\n",
    "            word_vector.append(np.array(w2v.wv[m]))\n",
    "        \n",
    "        if len(word_vector) < sequence_length:\n",
    "            padding = [np.zeros(5)] * (sequence_length - len(word_vector))\n",
    "            word_vector.extend(padding)\n",
    "        vector_dict[tf.convert_to_tensor(np.array(word_vector), dtype=tf.float32)] = v\n",
    "\n",
    "    return vector_dict, w2v\n",
    "\n",
    "if __name__ == '__main__':\n",
    "    word_vectors, w2v = vectorize_words()\n"
   ]
  },
  {
   "cell_type": "code",
   "execution_count": 24,
   "metadata": {},
   "outputs": [
    {
     "data": {
      "text/plain": [
       "25921"
      ]
     },
     "execution_count": 24,
     "metadata": {},
     "output_type": "execute_result"
    }
   ],
   "source": [
    "len(word_vectors)"
   ]
  },
  {
   "cell_type": "code",
   "execution_count": 27,
   "metadata": {},
   "outputs": [
    {
     "data": {
      "text/plain": [
       "[0.19955392, 1.148622, 1.852713, -0.89102215, -0.4622761]"
      ]
     },
     "execution_count": 27,
     "metadata": {},
     "output_type": "execute_result"
    }
   ],
   "source": [
    "list(w2v.wv['green'])"
   ]
  },
  {
   "cell_type": "code",
   "execution_count": null,
   "metadata": {},
   "outputs": [],
   "source": []
  }
 ],
 "metadata": {
  "kernelspec": {
   "display_name": ".venv",
   "language": "python",
   "name": "python3"
  },
  "language_info": {
   "codemirror_mode": {
    "name": "ipython",
    "version": 3
   },
   "file_extension": ".py",
   "mimetype": "text/x-python",
   "name": "python",
   "nbconvert_exporter": "python",
   "pygments_lexer": "ipython3",
   "version": "3.10.9"
  }
 },
 "nbformat": 4,
 "nbformat_minor": 2
}
